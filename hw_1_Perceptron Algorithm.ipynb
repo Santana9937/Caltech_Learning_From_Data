{
 "cells": [
  {
   "cell_type": "markdown",
   "metadata": {},
   "source": [
    "# Perceptron Algorithm for Data with d=2 Features"
   ]
  },
  {
   "cell_type": "markdown",
   "metadata": {},
   "source": [
    "In this notebook, we consider a binary classification problem with outputs $y=+1$ or $y=-1$. We consider data with\n",
    "$d=2$ features. We generate our own target function and then use the Perceptron algorithm to try to learn the target function from the training data. We study this problem for $N=10$ training examples and for $N=100$ training examples. The function learned by the Perceptron algorithm is much closer to the target function for $N=100$ training examples. We also explore the average number of iterations it takes the Perceptron algorithm to converge for $N=10$ training examples and for $N=100$ training examples."
   ]
  },
  {
   "cell_type": "markdown",
   "metadata": {},
   "source": [
    "## Importing Libraries"
   ]
  },
  {
   "cell_type": "code",
   "execution_count": 1,
   "metadata": {
    "collapsed": true
   },
   "outputs": [],
   "source": [
    "import numpy as np\n",
    "import matplotlib.pyplot as plt\n",
    "%matplotlib inline"
   ]
  },
  {
   "cell_type": "markdown",
   "metadata": {},
   "source": [
    "Setting numpy seed to reproduce results."
   ]
  },
  {
   "cell_type": "code",
   "execution_count": 2,
   "metadata": {
    "collapsed": true
   },
   "outputs": [],
   "source": [
    "np.random.seed(0)"
   ]
  },
  {
   "cell_type": "markdown",
   "metadata": {},
   "source": [
    "## Decision Boundary of Target Function"
   ]
  },
  {
   "cell_type": "markdown",
   "metadata": {
    "collapsed": true
   },
   "source": [
    "We are condering binary classification for this problem with outputs $y = +1$ or $y = -1$. The input values (data)\n",
    "are $\\textbf{x} = (x_{1}, x_{2}, x_{3}, ..., x_{d})$. The hypothesis $h( \\textbf{x} )$ we are considering is the following: if the dot product of the weights of the hypothesis $\\textbf{w} = (w_{0}, w_{1}, w_{2}, ..., w_{d})$ and the input values is positive, decide $y = +1$ for the output. Otherwise, decide $y = -1$ for the output. "
   ]
  },
  {
   "cell_type": "markdown",
   "metadata": {},
   "source": [
    "$$ h( \\textbf{x} ) = \\mbox{sign} \\left( \\sum_{i=0}^{d} w_{i} x_{i} \\right) $$\n"
   ]
  },
  {
   "cell_type": "markdown",
   "metadata": {},
   "source": [
    "We will consider the $d=2$ scenario for this problem. In this notation, $x_{0}$ is defined as $x_{0} = 1$ to have the notation be more compact. We set this expression equal to 0 since we are interested in finding the decision boundary between $y = +1$ and $y = -1$."
   ]
  },
  {
   "cell_type": "markdown",
   "metadata": {},
   "source": [
    "$$ h( \\textbf{x} ) = \\sum_{i=0}^{2} w_{i} x_{i} = w_{0} + w_{1} x_{1} + w_{2} x_{2} = 0 $$\n"
   ]
  },
  {
   "cell_type": "markdown",
   "metadata": {},
   "source": [
    "Rearranging this expression, we find the result below. For this expression, we only have 2 weights $w_{1}$ and $w_{2}$\n",
    "and the right hand side of the equation is equal to -1. This -1 on the right-hand side serves as a threshold.\n",
    "If $w_{1} x_{1} + w_{2} x_{2} > -1$, we classify as $y=+1$. Otherwise, we classify as $y = -1$."
   ]
  },
  {
   "cell_type": "markdown",
   "metadata": {},
   "source": [
    "$$ \\frac{w_{1}}{w_{0}} x_{1} + \\frac{w_{2}}{w_{0}} x_{2}  = -1 \\rightarrow \n",
    " w_{1} x_{1} + w_{2} x_{2} = -1 $$"
   ]
  },
  {
   "cell_type": "markdown",
   "metadata": {},
   "source": [
    "## Functions to determine Target Function"
   ]
  },
  {
   "cell_type": "markdown",
   "metadata": {},
   "source": [
    "The function below has no input. This function draws 2 random points in the $xy$ plane. The decision boundary for the target function is taken to be the line that passes through these two points. The weights of the decision boundary are then determined from the two points passing through the line. "
   ]
  },
  {
   "cell_type": "code",
   "execution_count": 3,
   "metadata": {
    "collapsed": true
   },
   "outputs": [],
   "source": [
    "def target_func_weights():\n",
    "    \n",
    "    # First, drawing 2 random points in the 2D plane\n",
    "    x_1_pts = np.random.uniform(low=-1.0, high=1.0, size=2)\n",
    "    x_2_pts = np.random.uniform(low=-1.0, high=1.0, size=2)\n",
    "    \n",
    "    # We now need to use the two points to solve for w_{1} and $w_{2}$\n",
    "    # for the decision boundary expression w_{1} x_{1} + w_{2} x_{2} = -1 .\n",
    "    w1 =  ( x_2_pts[1] - x_2_pts[0] )/( x_1_pts[1]*x_2_pts[0] - x_1_pts[0]*x_2_pts[1] ) \n",
    "    w2 =  ( x_1_pts[0] - x_1_pts[1] )/( x_1_pts[1]*x_2_pts[0] - x_1_pts[0]*x_2_pts[1] )\n",
    "    \n",
    "    # Returning the weight vector\n",
    "    return np.array( [w1,w2] )    "
   ]
  },
  {
   "cell_type": "markdown",
   "metadata": {},
   "source": [
    "This function takes as input the weights. These weights are then used to determine the line passing through the decision boundary. The x_1 values are also entered as input since x_1 is the independent variable.  "
   ]
  },
  {
   "cell_type": "code",
   "execution_count": 4,
   "metadata": {
    "collapsed": true
   },
   "outputs": [],
   "source": [
    "def weights_to_slope_int(w_array, x_1_array):\n",
    "    \n",
    "    x_2_array = -(w_array[0]/w_array[1])*x_1_array - (1.0/w_array[1])\n",
    "    \n",
    "    return x_2_array"
   ]
  },
  {
   "cell_type": "markdown",
   "metadata": {},
   "source": [
    "## Function to classify the data points as $y = +1 $ or $y = -1$"
   ]
  },
  {
   "cell_type": "markdown",
   "metadata": {},
   "source": [
    "This function takes as input the data as a matrix and the weights of the decision boundary we want to learn. This function then determines if the data point is above or below the decision boundary. Lastly, this function returns a list for the classification of the data points as either $+1$ or $-1$."
   ]
  },
  {
   "cell_type": "code",
   "execution_count": 5,
   "metadata": {
    "collapsed": true
   },
   "outputs": [],
   "source": [
    "def classify_points( X_data_matrix , weight_vals ):\n",
    "        \n",
    "        # Initializing the array that will return the classification of the data as an array of 0s.\n",
    "        classify_lst = np.zeros( X_data_matrix.shape[1] , dtype = int )\n",
    "        \n",
    "        # Computing w1*x1 + w2*x2 for each training example\n",
    "        output_vals = np.dot( weight_vals, X_data_matrix  )\n",
    "        \n",
    "        # Classifing the points with a dot product below the threshold of -1 as -1\n",
    "        classify_lst[ output_vals < -1.0 ] = -1\n",
    "        \n",
    "        # Classifing the points with a dot product above the threshold of -1 as +1\n",
    "        classify_lst[ output_vals >= -1.0 ] = +1\n",
    "        \n",
    "        return classify_lst"
   ]
  },
  {
   "cell_type": "markdown",
   "metadata": {},
   "source": [
    "## Function to learn the weights with the Perceptron Algorithm"
   ]
  },
  {
   "cell_type": "markdown",
   "metadata": {},
   "source": [
    "This function take as input the data for the training examples as a matrix, the initial weights for $g$, the function we are learning with the perceptron algorithm, and the correct labels for all the training examples, as determined by the target function $f$. This function returns the weights learned by the perceptron algorithm for $g$ and the number of iterations the perceptron algorithm took to converge. "
   ]
  },
  {
   "cell_type": "code",
   "execution_count": 6,
   "metadata": {
    "collapsed": true
   },
   "outputs": [],
   "source": [
    "def perceptron_ws_N_inter( X_data_matrix, ws_g, data_labels ):\n",
    "    \n",
    "    # Initialize the converged condition to False\n",
    "    converged = False\n",
    "    \n",
    "    # Initialize the number of iterations counter to 0\n",
    "    N_inter = 0\n",
    "    \n",
    "    # Apply the perceptron algorithm until all the points are correctly classificed\n",
    "    while not converged:\n",
    "        \n",
    "        # Classifing the points with the weights we have so far for g\n",
    "        g_learn_labels = classify_points( X_data_matrix , ws_g )\n",
    "        \n",
    "        # Determine an array with indicies where the labels determined by\n",
    "        # the g (the function we are learning) do not agree with the target function f\n",
    "        index_missclasify = np.where( g_learn_labels != data_labels )[0]\n",
    "        \n",
    "        # Finding the length of this list to determine the number of misclassified points\n",
    "        N_missclasify = len(index_missclasify)\n",
    "        \n",
    "        # If there are no misclassified points, the Perceptron algorithm has converged.\n",
    "        if N_missclasify==0:\n",
    "            converged = True\n",
    "        \n",
    "        # Otherwise\n",
    "        else:\n",
    "            \n",
    "            # Add 1 to the interation counter\n",
    "            N_inter += 1\n",
    "            \n",
    "            # Pick a random data point from the misclassified points\n",
    "            index_update = np.random.choice( index_missclasify )\n",
    "            \n",
    "            # Use this data point to update the weights of the perceptron\n",
    "            # The weight update is such that the weights should now closer to\n",
    "            # corrently classify the point we are considering. The weights\n",
    "            # are updated with the formuta w = w + y_n*x_n, where n is the\n",
    "            # index of the misclassified data point we are considering.\n",
    "            ws_g += (float(data_labels[index_update]))*X_data_matrix[:,index_update]\n",
    "    \n",
    "    # Returning the weights learned with the perceptron algorithm and the \n",
    "    # number of iterations the perceptron algorithm took to converge\n",
    "    return ( ws_g, N_inter )"
   ]
  },
  {
   "cell_type": "markdown",
   "metadata": {},
   "source": [
    "## Perceptron Algorithm for $N = 10$ Training Examples"
   ]
  },
  {
   "cell_type": "markdown",
   "metadata": {},
   "source": [
    "Drawing the weights for the target function $f$"
   ]
  },
  {
   "cell_type": "code",
   "execution_count": 7,
   "metadata": {
    "collapsed": true
   },
   "outputs": [],
   "source": [
    "ws_f_target = target_func_weights()"
   ]
  },
  {
   "cell_type": "markdown",
   "metadata": {},
   "source": [
    "Generating the $N=10$ training examples"
   ]
  },
  {
   "cell_type": "code",
   "execution_count": 8,
   "metadata": {
    "collapsed": true
   },
   "outputs": [],
   "source": [
    "N_points = 10\n",
    "x_1_dataset = np.random.uniform(low=-1.0, high=1.0, size=N_points)\n",
    "x_2_dataset = np.random.uniform(low=-1.0, high=1.0, size=N_points)"
   ]
  },
  {
   "cell_type": "markdown",
   "metadata": {},
   "source": [
    "Converting the data to a matrix to make it easier to classify the points and apply the Perceptron algorithm to the data."
   ]
  },
  {
   "cell_type": "code",
   "execution_count": 9,
   "metadata": {
    "collapsed": true
   },
   "outputs": [],
   "source": [
    "X_data = np.array( [ x_1_dataset, x_2_dataset ] )"
   ]
  },
  {
   "cell_type": "markdown",
   "metadata": {},
   "source": [
    "Applying the classification function with the weights of the target function to classify the points. "
   ]
  },
  {
   "cell_type": "code",
   "execution_count": 10,
   "metadata": {
    "collapsed": false
   },
   "outputs": [],
   "source": [
    "target_labels = classify_points( X_data , ws_f_target )"
   ]
  },
  {
   "cell_type": "markdown",
   "metadata": {},
   "source": [
    "Finding the line that goes through weights of the target function $f$"
   ]
  },
  {
   "cell_type": "code",
   "execution_count": 11,
   "metadata": {
    "collapsed": true
   },
   "outputs": [],
   "source": [
    "x1_vals = np.arange(-1.0,1.0+0.01,0.01)\n",
    "x2_db_f_targ = weights_to_slope_int( ws_f_target, x1_vals )"
   ]
  },
  {
   "cell_type": "markdown",
   "metadata": {},
   "source": [
    "Plotting the decision boundary for $f$ and the classification of the training examples"
   ]
  },
  {
   "cell_type": "code",
   "execution_count": 12,
   "metadata": {
    "collapsed": false
   },
   "outputs": [
    {
     "data": {
      "text/plain": [
       "(-1.0, 1.0)"
      ]
     },
     "execution_count": 12,
     "metadata": {},
     "output_type": "execute_result"
    },
    {
     "data": {
      "image/png": "[encoded data removed]",
      "text/plain": [
       "<matplotlib.figure.Figure at 0x1151d3ba8>"
      ]
     },
     "metadata": {},
     "output_type": "display_data"
    }
   ],
   "source": [
    "plt.figure(figsize=(8,6))\n",
    "plt.scatter( x_1_dataset[target_labels==1] , x_2_dataset[target_labels==1] , color=\"blue\", label = r\"$y=+1$\" )\n",
    "plt.scatter( x_1_dataset[target_labels==-1] , x_2_dataset[target_labels==-1] , color=\"red\", label = r\"$y=-1$\" )\n",
    "plt.plot( x1_vals , x2_db_f_targ , color=\"black\", label = \"f_target\", linestyle = \"--\")\n",
    "plt.legend(loc=\"best\", framealpha = 0.1 )\n",
    "plt.xlim((-1.0,1.0))\n",
    "plt.ylim((-1.0,1.0))"
   ]
  },
  {
   "cell_type": "markdown",
   "metadata": {},
   "source": [
    "Initializing the weights we will learn with the perceptron algorithm to 0s"
   ]
  },
  {
   "cell_type": "code",
   "execution_count": 13,
   "metadata": {
    "collapsed": true
   },
   "outputs": [],
   "source": [
    "ws_g_learn = np.array( [0.0, 0.0] )"
   ]
  },
  {
   "cell_type": "markdown",
   "metadata": {},
   "source": [
    "Applying the Perceptron Algorithm to Learn the weights and find the Iterations it took the Perceptron algorithm to converge."
   ]
  },
  {
   "cell_type": "code",
   "execution_count": 14,
   "metadata": {
    "collapsed": false
   },
   "outputs": [
    {
     "name": "stdout",
     "output_type": "stream",
     "text": [
      "[-0.89912568 -1.86187395]\n",
      "3\n"
     ]
    }
   ],
   "source": [
    "ws_g_learn, N_interations = perceptron_ws_N_inter( X_data, ws_g_learn , target_labels )\n",
    "print(ws_g_learn)\n",
    "print(N_interations)"
   ]
  },
  {
   "cell_type": "markdown",
   "metadata": {},
   "source": [
    "Finding the line that goes through the weights of the function we learned from the Perceptron, $g$"
   ]
  },
  {
   "cell_type": "code",
   "execution_count": 15,
   "metadata": {
    "collapsed": false
   },
   "outputs": [],
   "source": [
    "x2_db_g_learn = weights_to_slope_int( ws_g_learn, x1_vals )"
   ]
  },
  {
   "cell_type": "markdown",
   "metadata": {},
   "source": [
    "Comparing the decision boundary of the target function to the decision boundary learned by the perceptron algorithm."
   ]
  },
  {
   "cell_type": "code",
   "execution_count": 16,
   "metadata": {
    "collapsed": false
   },
   "outputs": [
    {
     "data": {
      "text/plain": [
       "(-1.0, 1.0)"
      ]
     },
     "execution_count": 16,
     "metadata": {},
     "output_type": "execute_result"
    },
    {
     "data": {
      "image/png": "[encoded data removed]",
      "text/plain": [
       "<matplotlib.figure.Figure at 0x1188d1048>"
      ]
     },
     "metadata": {},
     "output_type": "display_data"
    }
   ],
   "source": [
    "plt.figure(figsize=(8,6))\n",
    "plt.scatter( x_1_dataset[target_labels==1] , x_2_dataset[target_labels==1] , color=\"blue\", label = r\"$y=+1$\" )\n",
    "plt.scatter( x_1_dataset[target_labels==-1] , x_2_dataset[target_labels==-1] , color=\"red\", label = r\"$y=-1$\" )\n",
    "plt.plot( x1_vals , x2_db_f_targ , color=\"black\", label = \"f_target\", linestyle = \"--\")\n",
    "plt.plot( x1_vals , x2_db_g_learn , color=\"green\", label = \"g_learned\", linestyle = \":\")\n",
    "plt.legend(loc=\"best\", framealpha = 0.1 )\n",
    "plt.xlim((-1.0,1.0))\n",
    "plt.ylim((-1.0,1.0))"
   ]
  },
  {
   "cell_type": "markdown",
   "metadata": {},
   "source": [
    "## Perceptron Algorithm for $N = 100$ Training Examples"
   ]
  },
  {
   "cell_type": "markdown",
   "metadata": {},
   "source": [
    "Drawing the weights for the target function $f$"
   ]
  },
  {
   "cell_type": "code",
   "execution_count": 17,
   "metadata": {
    "collapsed": true
   },
   "outputs": [],
   "source": [
    "ws_f_target = target_func_weights()"
   ]
  },
  {
   "cell_type": "markdown",
   "metadata": {},
   "source": [
    "Generating the $N=100$ training examples"
   ]
  },
  {
   "cell_type": "code",
   "execution_count": 18,
   "metadata": {
    "collapsed": true
   },
   "outputs": [],
   "source": [
    "N_points = 100\n",
    "x_1_dataset = np.random.uniform(low=-1.0, high=1.0, size=N_points)\n",
    "x_2_dataset = np.random.uniform(low=-1.0, high=1.0, size=N_points)"
   ]
  },
  {
   "cell_type": "markdown",
   "metadata": {},
   "source": [
    "Converting the data to a matrix to make it easier to classify the points and apply the Perceptron algorithm on the data."
   ]
  },
  {
   "cell_type": "code",
   "execution_count": 19,
   "metadata": {
    "collapsed": true
   },
   "outputs": [],
   "source": [
    "X_data = np.array( [ x_1_dataset, x_2_dataset ] )"
   ]
  },
  {
   "cell_type": "markdown",
   "metadata": {},
   "source": [
    "Applying the classification function with the weights of the target function to classify the points. "
   ]
  },
  {
   "cell_type": "code",
   "execution_count": 20,
   "metadata": {
    "collapsed": false
   },
   "outputs": [],
   "source": [
    "target_labels = classify_points( X_data , ws_f_target )"
   ]
  },
  {
   "cell_type": "markdown",
   "metadata": {},
   "source": [
    "Finding the line that goes through weights of the target function $f$"
   ]
  },
  {
   "cell_type": "code",
   "execution_count": 21,
   "metadata": {
    "collapsed": true
   },
   "outputs": [],
   "source": [
    "x1_vals = np.arange(-1.0,1.0+0.01,0.01)\n",
    "x2_db_f_targ = weights_to_slope_int( ws_f_target, x1_vals )"
   ]
  },
  {
   "cell_type": "markdown",
   "metadata": {},
   "source": [
    "Plotting the decision boundary for $f$ and the classification of the training examples"
   ]
  },
  {
   "cell_type": "code",
   "execution_count": 22,
   "metadata": {
    "collapsed": false
   },
   "outputs": [
    {
     "data": {
      "text/plain": [
       "(-1.0, 1.0)"
      ]
     },
     "execution_count": 22,
     "metadata": {},
     "output_type": "execute_result"
    },
    {
     "data": {
      "image/png": "[encoded data removed]",
      "text/plain": [
       "<matplotlib.figure.Figure at 0x118946198>"
      ]
     },
     "metadata": {},
     "output_type": "display_data"
    }
   ],
   "source": [
    "plt.figure(figsize=(8,6))\n",
    "plt.scatter( x_1_dataset[target_labels==1] , x_2_dataset[target_labels==1] , color=\"blue\", label = r\"$y=+1$\" )\n",
    "plt.scatter( x_1_dataset[target_labels==-1] , x_2_dataset[target_labels==-1] , color=\"red\", label = r\"$y=-1$\" )\n",
    "plt.plot( x1_vals , x2_db_f_targ , color=\"black\", label = \"f_target\", linestyle = \"--\")\n",
    "plt.legend(loc=\"best\", framealpha = 0.1 )\n",
    "plt.xlim((-1.0,1.0))\n",
    "plt.ylim((-1.0,1.0))"
   ]
  },
  {
   "cell_type": "markdown",
   "metadata": {},
   "source": [
    "Initializing the weights we will learn with the perceptron algorithm to 0s"
   ]
  },
  {
   "cell_type": "code",
   "execution_count": 23,
   "metadata": {
    "collapsed": true
   },
   "outputs": [],
   "source": [
    "ws_g_learn = np.array( [0.0, 0.0] )"
   ]
  },
  {
   "cell_type": "markdown",
   "metadata": {},
   "source": [
    "Applying the Perceptron Algorithm to Learn the weights and find the Iterations it took the Perceptron algorithm to converge."
   ]
  },
  {
   "cell_type": "code",
   "execution_count": 24,
   "metadata": {
    "collapsed": false
   },
   "outputs": [
    {
     "name": "stdout",
     "output_type": "stream",
     "text": [
      "[-1.80664472  1.04520537]\n",
      "267\n"
     ]
    }
   ],
   "source": [
    "ws_g_learn, N_interations = perceptron_ws_N_inter( X_data, ws_g_learn , target_labels )\n",
    "print(ws_g_learn)\n",
    "print(N_interations)"
   ]
  },
  {
   "cell_type": "markdown",
   "metadata": {},
   "source": [
    "Finding the line that goes through the weights of the function we learned from the Perceptron, $g$"
   ]
  },
  {
   "cell_type": "code",
   "execution_count": 25,
   "metadata": {
    "collapsed": false
   },
   "outputs": [],
   "source": [
    "x2_db_g_learn = weights_to_slope_int( ws_g_learn, x1_vals )"
   ]
  },
  {
   "cell_type": "markdown",
   "metadata": {},
   "source": [
    "Comparing the decision boundary of the target function to the decision boundary learned by the perceptron algorithm."
   ]
  },
  {
   "cell_type": "code",
   "execution_count": 26,
   "metadata": {
    "collapsed": false
   },
   "outputs": [
    {
     "data": {
      "text/plain": [
       "(-1.0, 1.0)"
      ]
     },
     "execution_count": 26,
     "metadata": {},
     "output_type": "execute_result"
    },
    {
     "data": {
      "image/png": "[encoded data removed]",
      "text/plain": [
       "<matplotlib.figure.Figure at 0x118d3d240>"
      ]
     },
     "metadata": {},
     "output_type": "display_data"
    }
   ],
   "source": [
    "plt.figure(figsize=(8,6))\n",
    "plt.scatter( x_1_dataset[target_labels==1] , x_2_dataset[target_labels==1] , color=\"blue\", label = r\"$y=+1$\" )\n",
    "plt.scatter( x_1_dataset[target_labels==-1] , x_2_dataset[target_labels==-1] , color=\"red\", label = r\"$y=-1$\" )\n",
    "plt.plot( x1_vals , x2_db_f_targ , color=\"black\", label = \"f_target\", linestyle = \"--\")\n",
    "plt.plot( x1_vals , x2_db_g_learn , color=\"green\", label = \"g_learned\", linestyle = \":\")\n",
    "plt.legend(loc=\"best\", framealpha = 0.1 )\n",
    "plt.xlim((-1.0,1.0))\n",
    "plt.ylim((-1.0,1.0))"
   ]
  },
  {
   "cell_type": "markdown",
   "metadata": {},
   "source": [
    "## Performing 1000 simulations with $N=10$ training examples to determine the expected iterations for convergence"
   ]
  },
  {
   "cell_type": "markdown",
   "metadata": {},
   "source": [
    "Initializing N_points, the number of datapoints for each simulation, N_sims, the number of simulations we will perform, and N_iter_array, the array that will hold the iterations for each simulation."
   ]
  },
  {
   "cell_type": "code",
   "execution_count": 27,
   "metadata": {
    "collapsed": true
   },
   "outputs": [],
   "source": [
    "N_points = 10\n",
    "N_sims = 1000\n",
    "N_iter_array = np.zeros( N_sims , dtype = np.double)"
   ]
  },
  {
   "cell_type": "markdown",
   "metadata": {},
   "source": [
    "Performing the simulations and storing the number of iterations for convergence for each simulation."
   ]
  },
  {
   "cell_type": "code",
   "execution_count": 28,
   "metadata": {
    "collapsed": true
   },
   "outputs": [],
   "source": [
    "for i in range(N_sims):\n",
    "    \n",
    "    # Drawing the weights for the target function f\n",
    "    ws_f_target = target_func_weights()\n",
    "    \n",
    "    # Generating the training examples\n",
    "    x_1_dataset = np.random.uniform(low=-1.0, high=1.0, size=N_points)\n",
    "    x_2_dataset = np.random.uniform(low=-1.0, high=1.0, size=N_points)\n",
    "    \n",
    "    # Putting the training data in a matrix\n",
    "    X_data = np.array( [ x_1_dataset, x_2_dataset ] )\n",
    "    \n",
    "    # Classify the training examples with the weights from the target function f\n",
    "    target_labels = classify_points( X_data , ws_f_target )\n",
    "    \n",
    "    # Initializing the weights of the function we will learn with the Perceptron Algorithm to 0\n",
    "    ws_g_learn = np.array( [0.0, 0.0] )\n",
    "    \n",
    "    # Finding the numbner of iterations it took the Perceptron Algorithm to converge.\n",
    "    N_iter_array[i] = float( perceptron_ws_N_inter( X_data, ws_g_learn , target_labels )[1] )"
   ]
  },
  {
   "cell_type": "markdown",
   "metadata": {},
   "source": [
    "Making a histogram of the data. First defining the bins for the histogram and then plotting the data."
   ]
  },
  {
   "cell_type": "code",
   "execution_count": 29,
   "metadata": {
    "collapsed": false
   },
   "outputs": [
    {
     "data": {
      "text/plain": [
       "<matplotlib.text.Text at 0x119014630>"
      ]
     },
     "execution_count": 29,
     "metadata": {},
     "output_type": "execute_result"
    },
    {
     "data": {
      "image/png": "[encoded data removed]",
      "text/plain": [
       "<matplotlib.figure.Figure at 0x118fb2b38>"
      ]
     },
     "metadata": {},
     "output_type": "display_data"
    }
   ],
   "source": [
    "bin_edges = np.arange(0.0,200.0+2.0,2.0)\n",
    "bin_mid_pts = bin_edges[:-1]\n",
    "\n",
    "plt.figure(figsize=(8,6))\n",
    "plt.hist(N_iter_array, bins = bin_edges, edgecolor=\"black\" )\n",
    "plt.xlim((0.0,50.0))\n",
    "plt.xlabel(\"Number of Iterations\", fontsize = 16)\n",
    "plt.ylabel(\"Number of Simulations\", fontsize = 16 )\n",
    "plt.title(\"Perceptron with N=10 Training Examples\", fontsize = 16 )"
   ]
  },
  {
   "cell_type": "code",
   "execution_count": 30,
   "metadata": {
    "collapsed": false
   },
   "outputs": [
    {
     "name": "stdout",
     "output_type": "stream",
     "text": [
      "Mean Number of Interations: 10.5\n"
     ]
    }
   ],
   "source": [
    "print( \"Mean Number of Interations: %.1f\" %( np.mean(N_iter_array) ) ) "
   ]
  },
  {
   "cell_type": "markdown",
   "metadata": {},
   "source": [
    "## Performing 1000 simulations with $N=100$ training examples to determine the expected iterations for convergence"
   ]
  },
  {
   "cell_type": "markdown",
   "metadata": {},
   "source": [
    "Initializing N_points, the number of datapoints for each simulation, N_sims, the number of simulations we will perform, and N_iter_array, the array that will hold the iterations for each simulation."
   ]
  },
  {
   "cell_type": "code",
   "execution_count": 31,
   "metadata": {
    "collapsed": true
   },
   "outputs": [],
   "source": [
    "N_points = 100\n",
    "N_sims = 1000\n",
    "N_iter_array = np.zeros( N_sims , dtype = np.double)"
   ]
  },
  {
   "cell_type": "markdown",
   "metadata": {},
   "source": [
    "Performing the simulations and storing the number of iterations for convergence for each simulation."
   ]
  },
  {
   "cell_type": "code",
   "execution_count": 32,
   "metadata": {
    "collapsed": true
   },
   "outputs": [],
   "source": [
    "for i in range(N_sims):\n",
    "    \n",
    "    # Drawing the weights for the target function f\n",
    "    ws_f_target = target_func_weights()\n",
    "    \n",
    "    # Generating the training examples\n",
    "    x_1_dataset = np.random.uniform(low=-1.0, high=1.0, size=N_points)\n",
    "    x_2_dataset = np.random.uniform(low=-1.0, high=1.0, size=N_points)\n",
    "    \n",
    "    # Putting the training data in a matrix\n",
    "    X_data = np.array( [ x_1_dataset, x_2_dataset ] )\n",
    "    \n",
    "    # Classify the training examples with the weights from the target function f\n",
    "    target_labels = classify_points( X_data , ws_f_target )\n",
    "    \n",
    "    # Initializing the weights of the function we will learn with the Perceptron Algorithm to 0\n",
    "    ws_g_learn = np.array( [0.0, 0.0] )\n",
    "    \n",
    "    # Finding the numbner of iterations it took the Perceptron Algorithm to converge.\n",
    "    N_iter_array[i] = float( perceptron_ws_N_inter( X_data, ws_g_learn , target_labels )[1] )"
   ]
  },
  {
   "cell_type": "markdown",
   "metadata": {},
   "source": [
    "Making a histogram of the data. First defining the bins for the histogram and then plotting the data."
   ]
  },
  {
   "cell_type": "code",
   "execution_count": 33,
   "metadata": {
    "collapsed": false
   },
   "outputs": [
    {
     "data": {
      "text/plain": [
       "<matplotlib.text.Text at 0x118e92748>"
      ]
     },
     "execution_count": 33,
     "metadata": {},
     "output_type": "execute_result"
    },
    {
     "data": {
      "image/png": "[encoded data removed]",
      "text/plain": [
       "<matplotlib.figure.Figure at 0x118d597b8>"
      ]
     },
     "metadata": {},
     "output_type": "display_data"
    }
   ],
   "source": [
    "bin_edges = np.arange(0.0,500.0+5.0,5.0)\n",
    "bin_mid_pts = bin_edges[:-1]\n",
    "\n",
    "plt.figure(figsize=(8,6))\n",
    "plt.hist(N_iter_array, bins = bin_edges, edgecolor=\"black\" )\n",
    "plt.xlim((0.0,300.0))\n",
    "plt.xlabel(\"Number of Iterations\", fontsize = 16)\n",
    "plt.ylabel(\"Number of Simulations\", fontsize = 16 )\n",
    "plt.title(\"Perceptron with N=100 Training Examples\", fontsize = 16 )"
   ]
  },
  {
   "cell_type": "code",
   "execution_count": 34,
   "metadata": {
    "collapsed": false
   },
   "outputs": [
    {
     "name": "stdout",
     "output_type": "stream",
     "text": [
      "Mean Number of Interations: 195.6\n"
     ]
    }
   ],
   "source": [
    "print( \"Mean Number of Interations: %.1f\" %( np.mean(N_iter_array) ) ) "
   ]
  },
  {
   "cell_type": "code",
   "execution_count": null,
   "metadata": {
    "collapsed": true
   },
   "outputs": [],
   "source": []
  },
  {
   "cell_type": "code",
   "execution_count": null,
   "metadata": {
    "collapsed": false
   },
   "outputs": [],
   "source": []
  },
  {
   "cell_type": "code",
   "execution_count": null,
   "metadata": {
    "collapsed": true
   },
   "outputs": [],
   "source": []
  },
  {
   "cell_type": "code",
   "execution_count": null,
   "metadata": {
    "collapsed": true
   },
   "outputs": [],
   "source": []
  },
  {
   "cell_type": "code",
   "execution_count": null,
   "metadata": {
    "collapsed": true
   },
   "outputs": [],
   "source": []
  },
  {
   "cell_type": "code",
   "execution_count": null,
   "metadata": {
    "collapsed": false
   },
   "outputs": [],
   "source": []
  }
 ],
 "metadata": {
  "kernelspec": {
   "display_name": "Python 3",
   "language": "python",
   "name": "python3"
  },
  "language_info": {
   "codemirror_mode": {
    "name": "ipython",
    "version": 3
   },
   "file_extension": ".py",
   "mimetype": "text/x-python",
   "name": "python",
   "nbconvert_exporter": "python",
   "pygments_lexer": "ipython3",
   "version": "3.6.0"
  }
 },
 "nbformat": 4,
 "nbformat_minor": 2
}
